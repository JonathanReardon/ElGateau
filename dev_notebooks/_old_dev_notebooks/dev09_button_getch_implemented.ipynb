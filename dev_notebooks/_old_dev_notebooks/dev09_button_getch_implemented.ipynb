{
 "cells": [
  {
   "cell_type": "code",
   "execution_count": 1,
   "metadata": {
    "collapsed": true
   },
   "outputs": [],
   "source": [
    "from ElGateau import *\n",
    "ElGateau = ElGateau()"
   ]
  },
  {
   "cell_type": "code",
   "execution_count": null,
   "metadata": {
    "collapsed": true
   },
   "outputs": [],
   "source": [
    "ElGateau.reset()"
   ]
  },
  {
   "cell_type": "code",
   "execution_count": null,
   "metadata": {
    "collapsed": true
   },
   "outputs": [],
   "source": [
    "ElGateau.set_brightness(10)\n",
    "ElGateau.set_brightness(90)"
   ]
  },
  {
   "cell_type": "code",
   "execution_count": null,
   "metadata": {},
   "outputs": [],
   "source": [
    "ico = {}\n",
    "for i in ('cheese','taco','cake'):\n",
    "    ico[i]=ElGateau.icon_prep(i,300)"
   ]
  },
  {
   "cell_type": "code",
   "execution_count": null,
   "metadata": {
    "collapsed": true
   },
   "outputs": [],
   "source": [
    "ElGateau.display_icon(1,ico['cheese'])\n",
    "ElGateau.display_icon(2,ico['taco'])\n",
    "ElGateau.display_icon(3,ico['cake'])\n",
    "ElGateau.display_icon(4,ElGateau.icon_text(' ElGateau',col='000000',back='e5e5e5',size=14))"
   ]
  },
  {
   "cell_type": "code",
   "execution_count": null,
   "metadata": {
    "collapsed": true
   },
   "outputs": [],
   "source": [
    "ElGateau.display_clear((1,2))"
   ]
  },
  {
   "cell_type": "code",
   "execution_count": 2,
   "metadata": {
    "collapsed": true
   },
   "outputs": [],
   "source": [
    "for i in range (1,16):\n",
    "    ElGateau.display_icon(i,ElGateau.icon_text(str(i),size=20))"
   ]
  },
  {
   "cell_type": "code",
   "execution_count": null,
   "metadata": {
    "collapsed": true
   },
   "outputs": [],
   "source": [
    "from matplotlib import colors as mcolors\n",
    "col = dict(mcolors.BASE_COLORS, **mcolors.CSS4_COLORS)\n",
    "\n",
    "for i in range(1,4): # in Python, stop value is omitted\n",
    "    for j in range(1,6):\n",
    "        ElGateau.display_icon((i,j),ElGateau.icon_text(str(i)+','+str(j),col=col['w'],back=col['slateblue'],size=14))\n",
    "        \n",
    "ElGateau.display_clear((1,4))"
   ]
  },
  {
   "cell_type": "code",
   "execution_count": null,
   "metadata": {
    "collapsed": true
   },
   "outputs": [],
   "source": []
  },
  {
   "cell_type": "code",
   "execution_count": null,
   "metadata": {},
   "outputs": [],
   "source": [
    "from PIL import Image,ImageDraw,ImageFont\n",
    "\n",
    "base = ico['cheese']\n",
    "text = 'test'\n",
    "font = 'VeraMono-Bold'\n",
    "size=14\n",
    "col = 'ffffff'\n",
    "position = (31,31)\n",
    "\n",
    "txt = Image.new('RGBA', base.size, (255,255,255,0))\n",
    "fnt = ImageFont.truetype(os.path.join(\"fonts\",font+\".ttf\"), size)\n",
    "(r,g,b)=ElGateau.hex2rgb(col)\n",
    "d = ImageDraw.Draw(txt)\n",
    "w,h=d.textsize(text,font=fnt)\n",
    "position = (position[0]-w/2,position[1]-h/2)\n",
    "d.text(position, text, font=fnt, fill=(r,g,b,255))"
   ]
  },
  {
   "cell_type": "code",
   "execution_count": null,
   "metadata": {
    "collapsed": true
   },
   "outputs": [],
   "source": []
  },
  {
   "cell_type": "code",
   "execution_count": null,
   "metadata": {},
   "outputs": [],
   "source": [
    "elg = ElGateau.device\n",
    "import hid\n",
    "state = hid.device.read(elg,16)"
   ]
  },
  {
   "cell_type": "code",
   "execution_count": null,
   "metadata": {},
   "outputs": [],
   "source": [
    "import numpy as np\n",
    "state\n",
    "key = np.where(np.array(state) == 1)\n",
    "key = ElGateau.key_remap(int(key[0][1]))\n",
    "key"
   ]
  },
  {
   "cell_type": "code",
   "execution_count": 3,
   "metadata": {},
   "outputs": [
    {
     "name": "stdout",
     "output_type": "stream",
     "text": [
      "15\n",
      "(1509384704.9578917, 1509384706.838314, 1509384706.9189367)\n"
     ]
    }
   ],
   "source": [
    "(key,time) = ElGateau.button_getch()\n",
    "print (key)\n",
    "print (time)"
   ]
  },
  {
   "cell_type": "code",
   "execution_count": null,
   "metadata": {},
   "outputs": [],
   "source": [
    "import time\n",
    "time.time()"
   ]
  }
 ],
 "metadata": {
  "kernelspec": {
   "display_name": "Python 3",
   "language": "python",
   "name": "python3"
  },
  "language_info": {
   "codemirror_mode": {
    "name": "ipython",
    "version": 3
   },
   "file_extension": ".py",
   "mimetype": "text/x-python",
   "name": "python",
   "nbconvert_exporter": "python",
   "pygments_lexer": "ipython3",
   "version": "3.6.2"
  }
 },
 "nbformat": 4,
 "nbformat_minor": 2
}
