{
 "cells": [
  {
   "cell_type": "markdown",
   "metadata": {},
   "source": [
    "## Basic device functions"
   ]
  },
  {
   "cell_type": "code",
   "execution_count": null,
   "metadata": {},
   "outputs": [],
   "source": [
    "from ElGateau import *\n",
    "ElGateau = ElGateau()"
   ]
  },
  {
   "cell_type": "code",
   "execution_count": null,
   "metadata": {
    "collapsed": true
   },
   "outputs": [],
   "source": [
    "ElGateau.reset()"
   ]
  },
  {
   "cell_type": "code",
   "execution_count": null,
   "metadata": {
    "collapsed": true
   },
   "outputs": [],
   "source": [
    "ElGateau.set_brightness(10)\n",
    "ElGateau.set_brightness(90)"
   ]
  },
  {
   "cell_type": "markdown",
   "metadata": {},
   "source": [
    "## Display icons"
   ]
  },
  {
   "cell_type": "code",
   "execution_count": null,
   "metadata": {
    "collapsed": true
   },
   "outputs": [],
   "source": [
    "ico = {}\n",
    "for i in ('cheese','taco','cake'):\n",
    "    ico[i]=ElGateau.icon_prep(i,300)"
   ]
  },
  {
   "cell_type": "code",
   "execution_count": null,
   "metadata": {
    "collapsed": true
   },
   "outputs": [],
   "source": [
    "ElGateau.display_icon(1,ico['cheese'])\n",
    "ElGateau.display_icon(2,ico['taco'])\n",
    "ElGateau.display_icon(3,ico['cake'])\n",
    "ElGateau.display_icon(4,ElGateau.icon_text('ElGateau',col='000000',back='e5e5e5',size=14))"
   ]
  },
  {
   "cell_type": "code",
   "execution_count": null,
   "metadata": {
    "collapsed": true
   },
   "outputs": [],
   "source": [
    "for i in range (1,16):\n",
    "    ElGateau.display_icon(i,ElGateau.icon_text(str(i),size=36))"
   ]
  },
  {
   "cell_type": "code",
   "execution_count": null,
   "metadata": {},
   "outputs": [],
   "source": [
    "from matplotlib import colors as mcolors\n",
    "col = dict(mcolors.BASE_COLORS, **mcolors.CSS4_COLORS)\n",
    "\n",
    "for i in range(1,4): # in Python, stop value is omitted\n",
    "    for j in range(1,6):\n",
    "        ElGateau.display_icon((i,j),ElGateau.icon_text(str(i)+','+str(j),col=col['w'],back=col['slateblue'],size=14))"
   ]
  },
  {
   "cell_type": "markdown",
   "metadata": {},
   "source": [
    "## Clearing displays"
   ]
  },
  {
   "cell_type": "code",
   "execution_count": null,
   "metadata": {},
   "outputs": [],
   "source": [
    "ElGateau.display_clear((2,3))"
   ]
  },
  {
   "cell_type": "code",
   "execution_count": null,
   "metadata": {
    "collapsed": true
   },
   "outputs": [],
   "source": [
    "ElGateau.display_clear((2,3),rc=True)"
   ]
  },
  {
   "cell_type": "code",
   "execution_count": null,
   "metadata": {},
   "outputs": [],
   "source": [
    "ElGateau.display_clear(((2,3),(3,5)),rc=True)"
   ]
  },
  {
   "cell_type": "code",
   "execution_count": null,
   "metadata": {
    "collapsed": true
   },
   "outputs": [],
   "source": [
    "ElGateau.display_clear([2,3])"
   ]
  },
  {
   "cell_type": "code",
   "execution_count": null,
   "metadata": {
    "collapsed": true
   },
   "outputs": [],
   "source": [
    "ElGateau.display_clear('all')"
   ]
  },
  {
   "cell_type": "markdown",
   "metadata": {},
   "source": [
    "## Button Listening"
   ]
  },
  {
   "cell_type": "code",
   "execution_count": null,
   "metadata": {},
   "outputs": [],
   "source": [
    "ElGateau.button_listen_key((2,3))"
   ]
  },
  {
   "cell_type": "code",
   "execution_count": null,
   "metadata": {},
   "outputs": [],
   "source": [
    "ElGateau.button_listen_key((2,3),rc=True)\n",
    "# not implemented yet"
   ]
  },
  {
   "cell_type": "code",
   "execution_count": null,
   "metadata": {},
   "outputs": [],
   "source": [
    "ElGateau.button_listen_key(((2,3),(3,5)),rc=True)\n",
    "# not implemented yet"
   ]
  },
  {
   "cell_type": "code",
   "execution_count": null,
   "metadata": {},
   "outputs": [],
   "source": [
    "ElGateau.button_listen_key([2,3])"
   ]
  },
  {
   "cell_type": "code",
   "execution_count": null,
   "metadata": {},
   "outputs": [],
   "source": [
    "k, rt = ElGateau.button_listen_count(10)\n",
    "k, rt"
   ]
  },
  {
   "cell_type": "markdown",
   "metadata": {},
   "source": [
    "#### Restructuring the button_listen_count output with zip"
   ]
  },
  {
   "cell_type": "code",
   "execution_count": null,
   "metadata": {},
   "outputs": [],
   "source": [
    "zipped = zip(k,rt)\n",
    "z = list(zipped)\n",
    "z"
   ]
  },
  {
   "cell_type": "code",
   "execution_count": null,
   "metadata": {},
   "outputs": [],
   "source": [
    "z_b, z_rt = list(zip(*z))\n",
    "z_b, z_rt"
   ]
  },
  {
   "cell_type": "markdown",
   "metadata": {
    "collapsed": true
   },
   "source": [
    "## Workspace"
   ]
  },
  {
   "cell_type": "code",
   "execution_count": null,
   "metadata": {},
   "outputs": [],
   "source": [
    "# init\n",
    "from ElGateau import *\n",
    "ElGateau = ElGateau()\n",
    "ElGateau.display_clear('all')\n",
    "\n",
    "# import dependencies\n",
    "import random\n",
    "from matplotlib import colors as mcolors\n",
    "col = dict(mcolors.BASE_COLORS, **mcolors.CSS4_COLORS)\n",
    "\n",
    "# define constants\n",
    "ntrials = 10\n",
    "list_colors = {'red': 'firebrick','blue': 'slateblue', 'green': 'limegreen'}\n",
    "list_keys = [7,8,9]\n",
    "\n",
    "# prep variables\n",
    "colors = list(list_colors.keys())\n",
    "trial = 0\n",
    "ico = {}\n",
    "for color in colors:\n",
    "    ico[color]=ElGateau.icon_solid(col[list_colors[color]])\n",
    "flicker = 20\n",
    "    \n",
    "# run experiment!\n",
    "while trial < ntrials:\n",
    "    # populate keys\n",
    "    positions = list(range(0,len(list_keys)))\n",
    "    \n",
    "    # shuffle a bunch to make it more interesting\n",
    "    flick = 0\n",
    "    while flick < flicker:\n",
    "        random.shuffle(colors)\n",
    "        for pos in positions:\n",
    "            ElGateau.display_icon(list_keys[pos],ico[colors[pos]])\n",
    "        flick += 1\n",
    "        \n",
    "    # choose a color\n",
    "    random.shuffle(positions)\n",
    "    print(colors[positions[0]])\n",
    "    \n",
    "    # wait for that key press\n",
    "    ElGateau.button_listen_key(list_keys[positions[0]])\n",
    "    \n",
    "    trial += 1\n",
    "        \n",
    "# end\n",
    "ElGateau.display_clear('all')\n",
    "ElGateau.display_icon(8,ElGateau.icon_text('Great\\nJob',size=20))\n",
    "ElGateau.display_icon(13,ElGateau.icon_prep('cake',300))"
   ]
  },
  {
   "cell_type": "code",
   "execution_count": null,
   "metadata": {},
   "outputs": [],
   "source": []
  },
  {
   "cell_type": "code",
   "execution_count": null,
   "metadata": {},
   "outputs": [],
   "source": []
  },
  {
   "cell_type": "code",
   "execution_count": null,
   "metadata": {},
   "outputs": [],
   "source": [
    "ico"
   ]
  }
 ],
 "metadata": {
  "kernelspec": {
   "display_name": "Python 3",
   "language": "python",
   "name": "python3"
  },
  "language_info": {
   "codemirror_mode": {
    "name": "ipython",
    "version": 3
   },
   "file_extension": ".py",
   "mimetype": "text/x-python",
   "name": "python",
   "nbconvert_exporter": "python",
   "pygments_lexer": "ipython3",
   "version": "3.6.2"
  }
 },
 "nbformat": 4,
 "nbformat_minor": 2
}
