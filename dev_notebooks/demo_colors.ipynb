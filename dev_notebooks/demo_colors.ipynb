{
 "cells": [
  {
   "cell_type": "code",
   "execution_count": null,
   "metadata": {},
   "outputs": [],
   "source": [
    "# init\n",
    "from ElGateau import ElGateau, Icon\n",
    "ElGateau = ElGateau()\n",
    "ElGateau.display_clear('all')\n",
    "\n",
    "# import dependencies\n",
    "import random\n",
    "from matplotlib import colors as mcolors\n",
    "col = dict(mcolors.BASE_COLORS, **mcolors.CSS4_COLORS)\n",
    "\n",
    "# define constants\n",
    "ntrials = 10\n",
    "list_colors = {'red': 'firebrick', 'blue': 'slateblue', 'green': 'limegreen'}\n",
    "list_keys = [7, 8, 9]\n",
    "\n",
    "# prep variables\n",
    "colors = list(list_colors.keys())\n",
    "trial = 0\n",
    "ico = {}\n",
    "for color in colors:\n",
    "    ico[color] = Icon.solid(col[list_colors[color]])\n",
    "flicker = 20\n",
    "\n",
    "# run experiment!\n",
    "while trial < ntrials:\n",
    "    # populate keys\n",
    "    positions = list(range(0, len(list_keys)))\n",
    "\n",
    "    # shuffle a bunch to make it more interesting\n",
    "    flick = 0\n",
    "    while flick < flicker:\n",
    "        random.shuffle(colors)\n",
    "        for pos in positions:\n",
    "            ElGateau.display_update(list_keys[pos], ico[colors[pos]])\n",
    "        flick += 1\n",
    "\n",
    "    # choose a color\n",
    "    random.shuffle(positions)\n",
    "    print(colors[positions[0]])\n",
    "\n",
    "    # wait for that key press\n",
    "    ElGateau.button_listen_key(list_keys[positions[0]])\n",
    "\n",
    "    trial += 1\n",
    "\n",
    "# end\n",
    "ElGateau.display_clear('all')\n",
    "ElGateau.display_update(8, Icon.text('Great\\nJob', size=20))\n",
    "ElGateau.display_update(13, Icon.prep('cake', 300))\n"
   ]
  },
  {
   "cell_type": "code",
   "execution_count": null,
   "metadata": {},
   "outputs": [
    {
     "name": "stdout",
     "output_type": "stream",
     "text": [
      "blue\n"
     ]
    }
   ],
   "source": [
    "# init\n",
    "from ElGateau import ElGateau, Icon\n",
    "ElGateau = ElGateau(dev_mode=True)\n",
    "ElGateau.display_clear('all')\n",
    "\n",
    "# import dependencies\n",
    "import random\n",
    "from matplotlib import colors as mcolors\n",
    "col = dict(mcolors.BASE_COLORS, **mcolors.CSS4_COLORS)\n",
    "\n",
    "# define constants\n",
    "ntrials = 10\n",
    "list_colors = {'red': 'firebrick', 'blue': 'slateblue', 'green': 'limegreen'}\n",
    "list_keys = [7, 8, 9]\n",
    "\n",
    "# prep variables\n",
    "colors = list(list_colors.keys())\n",
    "trial = 0\n",
    "ico = {}\n",
    "for color in colors:\n",
    "    ico[color] = Icon.solid(col[list_colors[color]])\n",
    "flicker = 20\n",
    "\n",
    "# run experiment!\n",
    "while trial < ntrials:\n",
    "    # populate keys\n",
    "    positions = list(range(0, len(list_keys)))\n",
    "\n",
    "    # shuffle a bunch to make it more interesting\n",
    "    flick = 0\n",
    "    while flick < flicker:\n",
    "        random.shuffle(colors)\n",
    "        for pos in positions:\n",
    "            ElGateau.display_update(list_keys[pos], ico[colors[pos]])\n",
    "        flick += 1\n",
    "\n",
    "    # choose a color\n",
    "    random.shuffle(positions)\n",
    "    print(colors[positions[0]])\n",
    "\n",
    "    # wait for that key press\n",
    "    ElGateau.button_listen_key(list_keys[positions[0]])\n",
    "\n",
    "    trial += 1\n",
    "\n",
    "# end\n",
    "ElGateau.display_clear('all')\n",
    "ElGateau.display_update(8, Icon.text('Great\\nJob', size=20))\n",
    "ElGateau.display_update(13, Icon.prep('cake', 300))\n"
   ]
  },
  {
   "cell_type": "code",
   "execution_count": null,
   "metadata": {
    "collapsed": true
   },
   "outputs": [],
   "source": []
  }
 ],
 "metadata": {
  "kernelspec": {
   "display_name": "Python 3",
   "language": "python",
   "name": "python3"
  },
  "language_info": {
   "codemirror_mode": {
    "name": "ipython",
    "version": 3
   },
   "file_extension": ".py",
   "mimetype": "text/x-python",
   "name": "python",
   "nbconvert_exporter": "python",
   "pygments_lexer": "ipython3",
   "version": "3.6.3"
  }
 },
 "nbformat": 4,
 "nbformat_minor": 2
}
