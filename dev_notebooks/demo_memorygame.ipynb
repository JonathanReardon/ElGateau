{
 "cells": [
  {
   "cell_type": "code",
   "execution_count": 7,
   "metadata": {},
   "outputs": [],
   "source": [
    "#### demo_memorygame\n",
    "#### memory game, i.e., iterative delayed-match-to-sample\n",
    "#### last updated 20181022 CRM\n",
    "\n",
    "# experiment config\n",
    "\n",
    "## card pictures for memory game\n",
    "name_cardback = 'card'\n",
    "# need seven icons, i.e., floor( {15 keys} / {pairs of 2} )\n",
    "list_pictures = ('bulb', 'cheese', 'hammer', 'liberty', 'rocket', 'taco', 'turtle')\n",
    "\n",
    "## run on actual device?\n",
    "use_device = True\n",
    "\n",
    "\n",
    "#### program code ####\n",
    "from ElGateau import ElGateau, Icon\n",
    "%matplotlib qt5\n",
    "ElGateau = ElGateau(dev_mode=(not use_device))\n",
    "ElGateau.display_clear('all')\n",
    "\n",
    "# import experiment specific functions\n",
    "import random\n",
    "\n",
    "# prep variables\n",
    "flips = 0\n",
    "game_complete = False\n",
    "pairs_remain = len(list_pictures)\n",
    "\n",
    "\n"
   ]
  },
  {
   "cell_type": "code",
   "execution_count": null,
   "metadata": {},
   "outputs": [],
   "source": [
    "while game_complete == False:\n",
    "    \n",
    "    \n",
    "    \n",
    "    \n",
    "    \n",
    "    \n",
    "    flips += 1\n",
    "\n",
    "    if pairs_remain == 0:\n",
    "        game_complete == True\n",
    "\n",
    "# end\n",
    "#ElGateau.display_clear('all')\n",
    "#ElGateau.display_update(8, Icon.text('Great\\nJob', size=20))\n",
    "#ElGateau.display_update(13, Icon.prep('cake', 300))\n"
   ]
  },
  {
   "cell_type": "code",
   "execution_count": null,
   "metadata": {},
   "outputs": [],
   "source": []
  },
  {
   "cell_type": "code",
   "execution_count": 6,
   "metadata": {},
   "outputs": [
    {
     "data": {
      "text/plain": [
       "7"
      ]
     },
     "execution_count": 6,
     "metadata": {},
     "output_type": "execute_result"
    }
   ],
   "source": [
    "pairs_remain"
   ]
  },
  {
   "cell_type": "code",
   "execution_count": null,
   "metadata": {},
   "outputs": [],
   "source": []
  }
 ],
 "metadata": {
  "kernelspec": {
   "display_name": "Python 3",
   "language": "python",
   "name": "python3"
  },
  "language_info": {
   "codemirror_mode": {
    "name": "ipython",
    "version": 3
   },
   "file_extension": ".py",
   "mimetype": "text/x-python",
   "name": "python",
   "nbconvert_exporter": "python",
   "pygments_lexer": "ipython3",
   "version": "3.6.5"
  }
 },
 "nbformat": 4,
 "nbformat_minor": 2
}
