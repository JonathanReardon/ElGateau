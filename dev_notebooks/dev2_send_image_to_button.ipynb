{
 "cells": [
  {
   "cell_type": "code",
   "execution_count": 2,
   "metadata": {},
   "outputs": [],
   "source": [
    "# https://stackoverflow.com/questions/35162889/python-pyusb-hid-feature-report\n",
    "# https://github.com/danieltian/stream-deck-api/blob/master/lib/stream-deck.js\n",
    "\n",
    "import hid\n",
    "import time\n",
    "\n",
    "elg = hid.device(4057, 96)\n",
    "elg.open(4057, 96)\n"
   ]
  },
  {
   "cell_type": "code",
   "execution_count": 3,
   "metadata": {
    "collapsed": true
   },
   "outputs": [],
   "source": [
    "# constants\n",
    "\n",
    "RESET_DATA = [0x0B, 0x63, 0, 0, 0, 0, 0, 0, 0, 0, 0, 0, 0, 0, 0, 0, 0];\n",
    "BRIGHTNESS_DATA = [0x05, 0x55, 0xAA, 0xD1, 0x01, 0x0A, 0, 0, 0, 0, 0, 0, 0, 0, 0, 0, 0];\n",
    "\n",
    "HEADER_PAGE1 = [0x02, 0x01, 0x01, 0x00, 0x00, 0, 0x00, 0x00,0x00, 0x00, 0x00, 0x00, 0x00, 0x00, 0x00, 0x00, 0x42, 0x4d, 0xf6, 0x3c, 0x00, 0x00, 0x00, 0x00,0x00, 0x00, 0x36, 0x00, 0x00, 0x00, 0x28, 0x00, 0x00, 0x00, 0x48, 0x00, 0x00, 0x00, 0x48, 0x00, 0x00, 0x00, 0x01, 0x00, 0x18, 0x00, 0x00, 0x00, 0x00, 0x00, 0xc0, 0x3c, 0x00, 0x00, 0xc4, 0x0e, 0x00, 0x00, 0xc4, 0x0e, 0x00, 0x00, 0x00, 0x00, 0x00, 0x00, 0x00, 0x00, 0x00, 0x00]\n",
    "HEADER_PAGE2 = [0x02, 0x01, 0x02, 0x00, 0x01, 0]\n",
    "\n",
    "NUM_KEYS = 15;\n",
    "ICON_SIZE = 72,72\n",
    "\n",
    "PAGE_PACKET_SIZE = 8191;\n",
    "NUM_PAGE1_PIXELS = 2583;\n",
    "NUM_PAGE2_PIXELS = 2601;\n",
    "NUM_TOTAL_PIXELS = NUM_PAGE1_PIXELS + NUM_PAGE2_PIXELS;\n"
   ]
  },
  {
   "cell_type": "code",
   "execution_count": 4,
   "metadata": {},
   "outputs": [
    {
     "data": {
      "text/plain": [
       "17"
      ]
     },
     "execution_count": 4,
     "metadata": {},
     "output_type": "execute_result"
    }
   ],
   "source": [
    "elg.send_feature_report(RESET_DATA)"
   ]
  },
  {
   "cell_type": "code",
   "execution_count": 36,
   "metadata": {},
   "outputs": [
    {
     "data": {
      "text/plain": [
       "17"
      ]
     },
     "execution_count": 36,
     "metadata": {},
     "output_type": "execute_result"
    }
   ],
   "source": [
    "# brightness to 90\n",
    "bright = 90\n",
    "BRIGHTNESS_DATA[5] = bright\n",
    "elg.send_feature_report(BRIGHTNESS_DATA)"
   ]
  },
  {
   "cell_type": "code",
   "execution_count": 80,
   "metadata": {},
   "outputs": [],
   "source": [
    "import os\n",
    "from PIL import Image\n",
    "\n",
    "icon = 'taco'\n",
    "\n",
    "ico = Image.open(os.path.join(\"icons\",icon+\".png\"))\n",
    "ico.thumbnail(ICON_SIZE)"
   ]
  },
  {
   "cell_type": "code",
   "execution_count": 81,
   "metadata": {},
   "outputs": [],
   "source": [
    "import numpy as np\n",
    "\n",
    "icobuffer = list(ico.getdata()) # RGBA\n",
    "pixels = np.array([])\n",
    "for px in range(0, NUM_TOTAL_PIXELS):\n",
    "    r = icobuffer[px][0]\n",
    "    g = icobuffer[px][1]\n",
    "    b = icobuffer[px][2]\n",
    "    pixels = np.concatenate([pixels,np.array([b,g,r])])\n",
    "    "
   ]
  },
  {
   "cell_type": "code",
   "execution_count": 82,
   "metadata": {},
   "outputs": [
    {
     "data": {
      "text/plain": [
       "0"
      ]
     },
     "execution_count": 82,
     "metadata": {},
     "output_type": "execute_result"
    }
   ],
   "source": [
    "icobuffer\n",
    "px = 0\n",
    "icobuffer[px][0]"
   ]
  },
  {
   "cell_type": "code",
   "execution_count": 83,
   "metadata": {},
   "outputs": [
    {
     "data": {
      "text/plain": [
       "8191"
      ]
     },
     "execution_count": 83,
     "metadata": {},
     "output_type": "execute_result"
    }
   ],
   "source": [
    "key = 6\n",
    "header = HEADER_PAGE1\n",
    "header[5] = key\n",
    "msg = header+pixels[range(0,NUM_PAGE1_PIXELS*3)].astype(int).tolist()\n",
    "elg.write(msg)\n",
    "\n",
    "header = HEADER_PAGE2\n",
    "header[5] = key\n",
    "msg = header+pixels[range(NUM_PAGE1_PIXELS*3-10,NUM_TOTAL_PIXELS*3)].astype(int).tolist()\n",
    "elg.write(msg)\n"
   ]
  },
  {
   "cell_type": "code",
   "execution_count": 79,
   "metadata": {},
   "outputs": [
    {
     "data": {
      "text/plain": [
       "8191"
      ]
     },
     "execution_count": 79,
     "metadata": {},
     "output_type": "execute_result"
    }
   ],
   "source": [
    "icon = 'cake'\n",
    "key = 11\n",
    "\n",
    "import os\n",
    "from PIL import Image\n",
    "\n",
    "ico = Image.open(os.path.join(\"icons\",icon+\".png\"))\n",
    "ico.thumbnail(ICON_SIZE)\n",
    "\n",
    "import numpy as np\n",
    "icobuffer = list(ico.getdata()) # RGBA\n",
    "pixels = np.array([])\n",
    "for px in range(0, NUM_TOTAL_PIXELS):\n",
    "    r = icobuffer[px][0]\n",
    "    g = icobuffer[px][1]\n",
    "    b = icobuffer[px][2]\n",
    "    pixels = np.concatenate([pixels,np.array([b,g,r])])\n",
    "    \n",
    "header = HEADER_PAGE1\n",
    "header[5] = key\n",
    "msg = header+pixels[range(0,NUM_PAGE1_PIXELS*3)].astype(int).tolist()\n",
    "elg.write(msg)\n",
    "\n",
    "header = HEADER_PAGE2\n",
    "header[5] = key\n",
    "msg = header+pixels[range(NUM_PAGE1_PIXELS*3-10,NUM_TOTAL_PIXELS*3)].astype(int).tolist()\n",
    "elg.write(msg)\n",
    "    "
   ]
  },
  {
   "cell_type": "code",
   "execution_count": null,
   "metadata": {
    "collapsed": true
   },
   "outputs": [],
   "source": [
    "\n",
    "\n",
    "\n",
    "\n",
    "\n",
    "\n"
   ]
  },
  {
   "cell_type": "code",
   "execution_count": null,
   "metadata": {
    "collapsed": true
   },
   "outputs": [],
   "source": []
  }
 ],
 "metadata": {
  "kernelspec": {
   "display_name": "Python 3",
   "language": "python",
   "name": "python3"
  },
  "language_info": {
   "codemirror_mode": {
    "name": "ipython",
    "version": 3
   },
   "file_extension": ".py",
   "mimetype": "text/x-python",
   "name": "python",
   "nbconvert_exporter": "python",
   "pygments_lexer": "ipython3",
   "version": "3.6.2"
  }
 },
 "nbformat": 4,
 "nbformat_minor": 2
}
