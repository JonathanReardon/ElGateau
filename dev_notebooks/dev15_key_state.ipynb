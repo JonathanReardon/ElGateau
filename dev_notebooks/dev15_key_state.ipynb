{
 "cells": [
  {
   "cell_type": "code",
   "execution_count": null,
   "metadata": {},
   "outputs": [],
   "source": [
    "%matplotlib qt5\n",
    "\n",
    "from ElGateau import ElGateau, Icon\n",
    "ElGateau = ElGateau(dev_mode=True)\n",
    "#ElGateau = ElGateau()\n",
    "ElGateau.reset()"
   ]
  },
  {
   "cell_type": "code",
   "execution_count": null,
   "metadata": {},
   "outputs": [],
   "source": [
    "# config\n",
    "ntrials = 20\n",
    "bad_thing = 'devil'  # ('devil' or 'bomb')\n",
    "\n",
    "# import experiment specific functions\n",
    "import random\n",
    "import time\n",
    "\n",
    "# load icons and reset\n",
    "# works on Mac, not Windows...\n",
    "icon_list = {'devil': '\\U0001f47f', 'bomb': '\\U0001f4a3',\n",
    "             'box': '\\U0000229e','bank': '\\U0001f3e6',\n",
    "             'money_single': '\\U0001f4b5', 'money_accum': '\\U0001f4b0',\n",
    "             'clock': '\\U0001f553'}\n",
    "icon_size = {'devil': 50, 'bomb': 50,\n",
    "             'box': 40,'bank': 30, 'money_single': 40, 'money_accum': 30, 'clock': 30}\n",
    "icon = {}\n",
    "for i in ('devil','bomb','box','bank','money_single'):\n",
    "    icon[i] = Icon.text(icon_list[i],font='emoji',size=icon_size[i])\n",
    "    \n",
    "# do the point balance and clock icons separately, since need to shift the alignment\n",
    "for i in ('money_accum','clock'):\n",
    "    icon[i] = Icon.text(icon_list[i],position=(31,22),font='emoji',size=icon_size[i])\n",
    "ElGateau.reset()"
   ]
  },
  {
   "cell_type": "code",
   "execution_count": null,
   "metadata": {},
   "outputs": [],
   "source": [
    "# experiment trials\n",
    "\n",
    "# draw bank\n",
    "ElGateau.display_update(1,icon['bank'])\n",
    "\n",
    "# setup first trial\n",
    "trial = 0\n",
    "points = 0\n",
    "\n",
    "# setup current trial\n",
    "while trial < ntrials:\n",
    "    ElGateau.display_update(2,Icon.text(str(trial+1),position=(31,48),ico=icon['clock'],size=20,font='LiberationMono-Bold'))\n",
    "    ElGateau.display_update(5,Icon.text(str(points),position=(31,48),ico=icon['money_accum'],size=20,font='LiberationMono-Bold'))\n",
    "    for button in range(1,11):\n",
    "        ElGateau.display_update(button+5,icon['box'])\n",
    "\n",
    "    locate_devil = list(range(1,11))\n",
    "    random.shuffle(locate_devil)\n",
    "    locate_devil = locate_devil[0]+5\n",
    "\n",
    "    points_trial = 0\n",
    "    box_next = 1\n",
    "    trial_done = False\n",
    "    while not trial_done:\n",
    "        button, rt = ElGateau.button_listen_key((1,box_next+5)) # either home or next box\n",
    "        #ElGateau.button_empty()\n",
    "        if button == 1:\n",
    "            # keep your points and advance to next trial\n",
    "            points = points + points_trial\n",
    "            trial += 1\n",
    "            trial_done = True\n",
    "        elif button == (box_next+5):\n",
    "            if button == locate_devil:\n",
    "                # oops, got the devil! --and advance to next trial\n",
    "                ElGateau.display_update(button,icon[bad_thing])\n",
    "                points_trial = 0\n",
    "                trial += 1\n",
    "                trial_done = True\n",
    "                button, rt = ElGateau.button_listen_key(1) # await home\n",
    "            else:\n",
    "                # add to current trial count\n",
    "                ElGateau.display_update(button,icon['money_single'])\n",
    "                points_trial += 1\n",
    "                box_next += 1\n",
    "# end screen\n",
    "ElGateau.reset()\n",
    "ElGateau.display_update(8, Icon.text('Great\\nJob', size=20))\n",
    "ElGateau.display_update(13,Icon.text(str(points),position=(31,48),ico=icon['money_accum'],size=20,font='LiberationMono-Bold'))\n"
   ]
  },
  {
   "cell_type": "code",
   "execution_count": null,
   "metadata": {},
   "outputs": [],
   "source": [
    "ElGateau.dev_display_init"
   ]
  },
  {
   "cell_type": "code",
   "execution_count": null,
   "metadata": {
    "collapsed": true
   },
   "outputs": [],
   "source": []
  },
  {
   "cell_type": "code",
   "execution_count": null,
   "metadata": {
    "collapsed": true
   },
   "outputs": [],
   "source": []
  },
  {
   "cell_type": "code",
   "execution_count": null,
   "metadata": {
    "collapsed": true
   },
   "outputs": [],
   "source": []
  },
  {
   "cell_type": "code",
   "execution_count": null,
   "metadata": {
    "collapsed": true
   },
   "outputs": [],
   "source": []
  },
  {
   "cell_type": "code",
   "execution_count": null,
   "metadata": {
    "collapsed": true
   },
   "outputs": [],
   "source": []
  },
  {
   "cell_type": "code",
   "execution_count": null,
   "metadata": {
    "collapsed": true
   },
   "outputs": [],
   "source": []
  },
  {
   "cell_type": "code",
   "execution_count": null,
   "metadata": {
    "collapsed": true
   },
   "outputs": [],
   "source": []
  },
  {
   "cell_type": "code",
   "execution_count": null,
   "metadata": {
    "collapsed": true
   },
   "outputs": [],
   "source": []
  },
  {
   "cell_type": "code",
   "execution_count": null,
   "metadata": {
    "collapsed": true
   },
   "outputs": [],
   "source": []
  },
  {
   "cell_type": "code",
   "execution_count": null,
   "metadata": {
    "collapsed": true
   },
   "outputs": [],
   "source": []
  }
 ],
 "metadata": {
  "kernelspec": {
   "display_name": "Python 3",
   "language": "python",
   "name": "python3"
  },
  "language_info": {
   "codemirror_mode": {
    "name": "ipython",
    "version": 3
   },
   "file_extension": ".py",
   "mimetype": "text/x-python",
   "name": "python",
   "nbconvert_exporter": "python",
   "pygments_lexer": "ipython3",
   "version": "3.6.3"
  }
 },
 "nbformat": 4,
 "nbformat_minor": 2
}
