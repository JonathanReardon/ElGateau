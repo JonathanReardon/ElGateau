{
 "cells": [
  {
   "cell_type": "code",
   "execution_count": 1,
   "metadata": {},
   "outputs": [],
   "source": [
    "import matplotlib as mpl\n",
    "mpl.use('Qt5Agg')\n",
    "\n",
    "from ElGateau import ElGateau, Icon\n",
    "#ElGateau = ElGateau(dev_mode=True)\n",
    "ElGateau = ElGateau()\n",
    "ElGateau.reset()"
   ]
  },
  {
   "cell_type": "code",
   "execution_count": 2,
   "metadata": {},
   "outputs": [],
   "source": [
    "# config\n",
    "ntrials = 20\n",
    "bad_thing = 'devil'  # ('devil' or 'bomb')\n",
    "\n",
    "# import experiment specific functions\n",
    "import random\n",
    "import time\n",
    "\n",
    "# load icons and reset\n",
    "# works on Mac, not Windows...\n",
    "icon_list = {'devil': '\\U0001f47f', 'bomb': '\\U0001f4a3',\n",
    "             'box': '\\U0000229e','bank': '\\U0001f3e6',\n",
    "             'money_single': '\\U0001f4b5', 'money_accum': '\\U0001f4b0',\n",
    "             'clock': '\\U0001f553'}\n",
    "icon_size = {'devil': 50, 'bomb': 50,\n",
    "             'box': 40,'bank': 30, 'money_single': 40, 'money_accum': 30, 'clock': 30}\n",
    "icon = {}\n",
    "for i in ('devil','bomb','box','bank','money_single'):\n",
    "    icon[i] = Icon.text(icon_list[i],font='emoji',size=icon_size[i])\n",
    "    \n",
    "# do the point balance and clock icons separately, since need to shift the alignment\n",
    "for i in ('money_accum','clock'):\n",
    "    icon[i] = Icon.text(icon_list[i],position=(31,22),font='emoji',size=icon_size[i])\n",
    "ElGateau.reset()"
   ]
  },
  {
   "cell_type": "code",
   "execution_count": 3,
   "metadata": {},
   "outputs": [
    {
     "ename": "IndexError",
     "evalue": "index 1 is out of bounds for axis 0 with size 1",
     "output_type": "error",
     "traceback": [
      "\u001b[0;31m----------------------------------------------------------------------\u001b[0m",
      "\u001b[0;31mIndexError\u001b[0m                           Traceback (most recent call last)",
      "\u001b[0;32m<ipython-input-3-19235af92cd4>\u001b[0m in \u001b[0;36m<module>\u001b[0;34m()\u001b[0m\n\u001b[1;32m     37\u001b[0m                 \u001b[0mtrial\u001b[0m \u001b[0;34m+=\u001b[0m \u001b[0;36m1\u001b[0m\u001b[0;34m\u001b[0m\u001b[0m\n\u001b[1;32m     38\u001b[0m                 \u001b[0mtrial_done\u001b[0m \u001b[0;34m=\u001b[0m \u001b[0;32mTrue\u001b[0m\u001b[0;34m\u001b[0m\u001b[0m\n\u001b[0;32m---> 39\u001b[0;31m                 \u001b[0mbutton\u001b[0m\u001b[0;34m,\u001b[0m \u001b[0mrt\u001b[0m \u001b[0;34m=\u001b[0m \u001b[0mElGateau\u001b[0m\u001b[0;34m.\u001b[0m\u001b[0mbutton_listen_key\u001b[0m\u001b[0;34m(\u001b[0m\u001b[0;36m1\u001b[0m\u001b[0;34m)\u001b[0m \u001b[0;31m# await home\u001b[0m\u001b[0;34m\u001b[0m\u001b[0m\n\u001b[0m\u001b[1;32m     40\u001b[0m             \u001b[0;32melse\u001b[0m\u001b[0;34m:\u001b[0m\u001b[0;34m\u001b[0m\u001b[0m\n\u001b[1;32m     41\u001b[0m                 \u001b[0;31m# add to current trial count\u001b[0m\u001b[0;34m\u001b[0m\u001b[0;34m\u001b[0m\u001b[0m\n",
      "\u001b[0;32m/Users/chris/Documents/Github/ElGateau/dev_notebooks/ElGateau.py\u001b[0m in \u001b[0;36mbutton_listen_key\u001b[0;34m(self, keys, rc)\u001b[0m\n\u001b[1;32m    546\u001b[0m             \u001b[0;32mwhile\u001b[0m \u001b[0mbutton\u001b[0m \u001b[0;32mnot\u001b[0m \u001b[0;32min\u001b[0m \u001b[0mkeys\u001b[0m\u001b[0;34m:\u001b[0m\u001b[0;34m\u001b[0m\u001b[0m\n\u001b[1;32m    547\u001b[0m                 \u001b[0;32mif\u001b[0m \u001b[0;32mnot\u001b[0m \u001b[0mself\u001b[0m\u001b[0;34m.\u001b[0m\u001b[0mdev_mode\u001b[0m\u001b[0;34m:\u001b[0m\u001b[0;34m\u001b[0m\u001b[0m\n\u001b[0;32m--> 548\u001b[0;31m                     \u001b[0mbutton\u001b[0m\u001b[0;34m,\u001b[0m \u001b[0mbutton_time\u001b[0m \u001b[0;34m=\u001b[0m \u001b[0mself\u001b[0m\u001b[0;34m.\u001b[0m\u001b[0mbutton_getch\u001b[0m\u001b[0;34m(\u001b[0m\u001b[0;34m)\u001b[0m\u001b[0;34m\u001b[0m\u001b[0m\n\u001b[0m\u001b[1;32m    549\u001b[0m                 \u001b[0;32melif\u001b[0m \u001b[0mself\u001b[0m\u001b[0;34m.\u001b[0m\u001b[0mdev_mode\u001b[0m\u001b[0;34m:\u001b[0m\u001b[0;34m\u001b[0m\u001b[0m\n\u001b[1;32m    550\u001b[0m                     \u001b[0mbutton\u001b[0m\u001b[0;34m,\u001b[0m \u001b[0mbutton_time\u001b[0m \u001b[0;34m=\u001b[0m \u001b[0mself\u001b[0m\u001b[0;34m.\u001b[0m\u001b[0mdev_button_getch\u001b[0m\u001b[0;34m(\u001b[0m\u001b[0;34m)\u001b[0m\u001b[0;34m\u001b[0m\u001b[0m\n",
      "\u001b[0;32m/Users/chris/Documents/Github/ElGateau/dev_notebooks/ElGateau.py\u001b[0m in \u001b[0;36mbutton_getch\u001b[0;34m(self, remap, timeout)\u001b[0m\n\u001b[1;32m    482\u001b[0m         \u001b[0;31m#key = 0\u001b[0m\u001b[0;34m\u001b[0m\u001b[0;34m\u001b[0m\u001b[0m\n\u001b[1;32m    483\u001b[0m         \u001b[0;31m#else:\u001b[0m\u001b[0;34m\u001b[0m\u001b[0;34m\u001b[0m\u001b[0m\n\u001b[0;32m--> 484\u001b[0;31m         \u001b[0mkey\u001b[0m \u001b[0;34m=\u001b[0m \u001b[0mint\u001b[0m\u001b[0;34m(\u001b[0m\u001b[0mkey\u001b[0m\u001b[0;34m[\u001b[0m\u001b[0;36m0\u001b[0m\u001b[0;34m]\u001b[0m\u001b[0;34m[\u001b[0m\u001b[0;36m1\u001b[0m\u001b[0;34m]\u001b[0m\u001b[0;34m)\u001b[0m\u001b[0;34m\u001b[0m\u001b[0m\n\u001b[0m\u001b[1;32m    485\u001b[0m         \u001b[0;32mif\u001b[0m \u001b[0mremap\u001b[0m\u001b[0;34m:\u001b[0m\u001b[0;34m\u001b[0m\u001b[0m\n\u001b[1;32m    486\u001b[0m             \u001b[0mkey\u001b[0m \u001b[0;34m=\u001b[0m \u001b[0mself\u001b[0m\u001b[0;34m.\u001b[0m\u001b[0mkey_remap\u001b[0m\u001b[0;34m(\u001b[0m\u001b[0mkey\u001b[0m\u001b[0;34m)\u001b[0m\u001b[0;34m\u001b[0m\u001b[0m\n",
      "\u001b[0;31mIndexError\u001b[0m: index 1 is out of bounds for axis 0 with size 1"
     ]
    }
   ],
   "source": [
    "# experiment trials\n",
    "\n",
    "# draw bank\n",
    "ElGateau.display_update(1,icon['bank'])\n",
    "\n",
    "# setup first trial\n",
    "trial = 0\n",
    "points = 0\n",
    "\n",
    "# setup current trial\n",
    "while trial < ntrials:\n",
    "    ElGateau.display_update(2,Icon.text(str(trial+1),position=(31,48),ico=icon['clock'],size=20,font='LiberationMono-Bold'))\n",
    "    ElGateau.display_update(5,Icon.text(str(points),position=(31,48),ico=icon['money_accum'],size=20,font='LiberationMono-Bold'))\n",
    "    for button in range(1,11):\n",
    "        ElGateau.display_update(button+5,icon['box'])\n",
    "\n",
    "    locate_devil = list(range(1,11))\n",
    "    random.shuffle(locate_devil)\n",
    "    locate_devil = locate_devil[0]+5\n",
    "\n",
    "    points_trial = 0\n",
    "    box_next = 1\n",
    "    trial_done = False\n",
    "    while not trial_done:\n",
    "        button, rt = ElGateau.button_listen_key((1,box_next+5)) # either home or next box\n",
    "        #ElGateau.button_empty()\n",
    "        if button == 1:\n",
    "            # keep your points and advance to next trial\n",
    "            points = points + points_trial\n",
    "            trial += 1\n",
    "            trial_done = True\n",
    "        elif button == (box_next+5):\n",
    "            if button == locate_devil:\n",
    "                # oops, got the devil! --and advance to next trial\n",
    "                ElGateau.display_update(button,icon[bad_thing])\n",
    "                points_trial = 0\n",
    "                trial += 1\n",
    "                trial_done = True\n",
    "                button, rt = ElGateau.button_listen_key(1) # await home\n",
    "            else:\n",
    "                # add to current trial count\n",
    "                ElGateau.display_update(button,icon['money_single'])\n",
    "                points_trial += 1\n",
    "                box_next += 1\n",
    "# end screen"
   ]
  },
  {
   "cell_type": "code",
   "execution_count": null,
   "metadata": {},
   "outputs": [],
   "source": [
    "icon"
   ]
  },
  {
   "cell_type": "code",
   "execution_count": null,
   "metadata": {
    "collapsed": true
   },
   "outputs": [],
   "source": [
    "ElGateau.display_update(6,icon['money_single'])\n",
    "ElGateau.display_update(10,icon[bad_thing])"
   ]
  },
  {
   "cell_type": "code",
   "execution_count": null,
   "metadata": {
    "collapsed": true
   },
   "outputs": [],
   "source": []
  },
  {
   "cell_type": "code",
   "execution_count": null,
   "metadata": {
    "collapsed": true
   },
   "outputs": [],
   "source": []
  },
  {
   "cell_type": "code",
   "execution_count": null,
   "metadata": {
    "collapsed": true
   },
   "outputs": [],
   "source": []
  },
  {
   "cell_type": "code",
   "execution_count": null,
   "metadata": {
    "collapsed": true
   },
   "outputs": [],
   "source": []
  },
  {
   "cell_type": "code",
   "execution_count": null,
   "metadata": {
    "collapsed": true
   },
   "outputs": [],
   "source": []
  },
  {
   "cell_type": "code",
   "execution_count": null,
   "metadata": {
    "collapsed": true
   },
   "outputs": [],
   "source": []
  },
  {
   "cell_type": "code",
   "execution_count": null,
   "metadata": {
    "collapsed": true
   },
   "outputs": [],
   "source": []
  },
  {
   "cell_type": "code",
   "execution_count": null,
   "metadata": {
    "collapsed": true
   },
   "outputs": [],
   "source": []
  },
  {
   "cell_type": "code",
   "execution_count": null,
   "metadata": {
    "collapsed": true
   },
   "outputs": [],
   "source": []
  }
 ],
 "metadata": {
  "kernelspec": {
   "display_name": "Python [Root]",
   "language": "python",
   "name": "Python [Root]"
  },
  "language_info": {
   "codemirror_mode": {
    "name": "ipython",
    "version": 3
   },
   "file_extension": ".py",
   "mimetype": "text/x-python",
   "name": "python",
   "nbconvert_exporter": "python",
   "pygments_lexer": "ipython3",
   "version": "3.5.4"
  }
 },
 "nbformat": 4,
 "nbformat_minor": 2
}
