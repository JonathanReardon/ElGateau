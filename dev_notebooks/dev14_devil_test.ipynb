{
 "cells": [
  {
   "cell_type": "code",
   "execution_count": null,
   "metadata": {},
   "outputs": [],
   "source": [
    "%matplotlib notebook\n",
    "import matplotlib.pyplot as plt\n",
    "\n",
    "from ElGateau import ElGateau, Icon\n",
    "#ElGateau = ElGateau()\n",
    "ElGateau = ElGateau(dev_mode=True)"
   ]
  },
  {
   "cell_type": "code",
   "execution_count": null,
   "metadata": {},
   "outputs": [],
   "source": [
    "# mock up of screen display\n",
    "bad_thing = 'devil'  # ('devil' or 'bomb')\n",
    "\n",
    "# works on Mac, not Windows...\n",
    "icon_list = {'devil': '\\U0001f47f', 'bomb': '\\U0001f4a3',\n",
    "             'box': '\\U0000229e','bank': '\\U0001f3e6',\n",
    "             'money_single': '\\U0001f4b5', 'money_accum': '\\U0001f4b0'}\n",
    "icon_size = {'devil': 50, 'bomb': 50,\n",
    "             'box': 40,'bank': 30, 'money_single': 40, 'money_accum': 30}\n",
    "icon = {}\n",
    "for i in ('devil','bomb','box','bank','money_single'):\n",
    "    icon[i] = Icon.text(icon_list[i],font='emoji',size=icon_size[i])\n",
    "i = 'money_accum'\n",
    "icon[i] = Icon.text(icon_list[i],position=(31,22),font='emoji',size=icon_size[i])\n",
    "ElGateau.reset()\n",
    "ElGateau.display_update(11,icon['box'])\n",
    "ElGateau.display_update(12,icon['box'])\n",
    "ElGateau.display_update(13,icon['box'])\n",
    "ElGateau.display_update(14,icon['box'])\n",
    "ElGateau.display_update(15,icon['box'])\n",
    "ElGateau.display_update(1,icon['bank'])\n",
    "ElGateau.display_update(5,Icon.text('10',position=(31,48),ico=icon['money_accum'],size=20,font='LiberationMono-Bold'))\n",
    "ElGateau.display_update(6,icon['money_single'])\n",
    "ElGateau.display_update(7,icon['money_single'])\n",
    "ElGateau.display_update(8,icon['money_single'])\n",
    "ElGateau.display_update(9,icon['money_single'])\n",
    "ElGateau.display_update(10,icon[bad_thing])\n",
    "ElGateau.display_state"
   ]
  },
  {
   "cell_type": "code",
   "execution_count": null,
   "metadata": {
    "collapsed": true
   },
   "outputs": [],
   "source": []
  },
  {
   "cell_type": "code",
   "execution_count": null,
   "metadata": {},
   "outputs": [],
   "source": [
    "fig = plt.figure()\n",
    "plt.axis('off')\n",
    "plt.imshow(ElGateau.display_state, interpolation='sinc')\n",
    "\n",
    "# change to self.click\n",
    "click = []\n",
    "def on_click(event):\n",
    "    '''Capture the x,y coordinates of a mouse click on the image'''\n",
    "    ix, iy = event.xdata, event.ydata\n",
    "    click.append([ix, iy])\n",
    "\n",
    "connectId = fig.canvas.mpl_connect('button_press_event', on_click)"
   ]
  },
  {
   "cell_type": "code",
   "execution_count": null,
   "metadata": {
    "collapsed": true
   },
   "outputs": [],
   "source": [
    "# clear buffer\n",
    "click = []"
   ]
  },
  {
   "cell_type": "code",
   "execution_count": null,
   "metadata": {},
   "outputs": [],
   "source": [
    "click"
   ]
  },
  {
   "cell_type": "code",
   "execution_count": null,
   "metadata": {},
   "outputs": [],
   "source": [
    "click = tuple(map(int, click_xy[-1]))\n",
    "import numpy as np\n",
    "r = int(np.floor(click_xy[1]/80))+1\n",
    "c = int(np.floor(click_xy[0]/80))+1\n",
    "key = (r, c)\n",
    "key = ElGateau.key_remap(key)\n",
    "key = ElGateau.key_remap(key)\n",
    "key"
   ]
  },
  {
   "cell_type": "code",
   "execution_count": null,
   "metadata": {
    "collapsed": true
   },
   "outputs": [],
   "source": [
    "import matplotlib\n",
    "matplotlib.__version__"
   ]
  },
  {
   "cell_type": "code",
   "execution_count": null,
   "metadata": {
    "collapsed": true
   },
   "outputs": [],
   "source": [
    "\"\\U0001f44d\""
   ]
  },
  {
   "cell_type": "code",
   "execution_count": null,
   "metadata": {
    "collapsed": true
   },
   "outputs": [],
   "source": []
  },
  {
   "cell_type": "code",
   "execution_count": null,
   "metadata": {
    "collapsed": true
   },
   "outputs": [],
   "source": []
  }
 ],
 "metadata": {
  "kernelspec": {
   "display_name": "Python 3",
   "language": "python",
   "name": "python3"
  },
  "language_info": {
   "codemirror_mode": {
    "name": "ipython",
    "version": 3
   },
   "file_extension": ".py",
   "mimetype": "text/x-python",
   "name": "python",
   "nbconvert_exporter": "python",
   "pygments_lexer": "ipython3",
   "version": "3.6.3"
  }
 },
 "nbformat": 4,
 "nbformat_minor": 2
}
