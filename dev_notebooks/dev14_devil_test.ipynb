{
 "cells": [
  {
   "cell_type": "code",
   "execution_count": null,
   "metadata": {},
   "outputs": [],
   "source": [
    "%matplotlib inline\n",
    "import matplotlib.pyplot as plt\n",
    "\n",
    "from ElGateau import ElGateau, Icon\n",
    "ElGateau = ElGateau(dev_mode=True)"
   ]
  },
  {
   "cell_type": "code",
   "execution_count": null,
   "metadata": {},
   "outputs": [],
   "source": [
    "# mock up of screen display\n",
    "icon_list = {'devil': '\\U0001f47f', 'bomb': '\\U0001f4a3',\n",
    "             'box': '\\U0000229e','bank': '\\U0001f3e6',\n",
    "             'money_single': '\\U0001f4b5', 'money_accum': '\\U0001f4b0'}\n",
    "icon_size = {'devil': 50, 'bomb': 50,\n",
    "             'box': 40,'bank': 30, 'money_single': 40, 'money_accum': 30}\n",
    "icon = {}\n",
    "for i in ('devil','bomb','box','bank','money_single'):\n",
    "    icon[i] = Icon.text(icon_list[i],font='emoji',size=icon_size[i])\n",
    "i = 'money_accum'\n",
    "icon[i] = Icon.text(icon_list[i],position=(31,22),font='emoji',size=icon_size[i])\n",
    "ElGateau.reset()\n",
    "ElGateau.display_update(11,icon['box'])\n",
    "ElGateau.display_update(12,icon['box'])\n",
    "ElGateau.display_update(13,icon['box'])\n",
    "ElGateau.display_update(14,icon['box'])\n",
    "ElGateau.display_update(15,icon['box'])\n",
    "ElGateau.display_update(1,icon['bank'])\n",
    "ElGateau.display_update(5,Icon.text('10',position=(31,48),ico=icon['money_accum'],size=20,font='LiberationMono-Bold'))\n",
    "ElGateau.display_update(6,icon['money_single'])\n",
    "ElGateau.display_update(7,icon['money_single'])\n",
    "ElGateau.display_update(8,icon['money_single'])\n",
    "ElGateau.display_update(9,icon['money_single'])\n",
    "ElGateau.display_update(10,icon['devil'])\n",
    "ElGateau.display_state"
   ]
  },
  {
   "cell_type": "code",
   "execution_count": null,
   "metadata": {
    "collapsed": true
   },
   "outputs": [],
   "source": [
    "plt.show(ElGateau.display_state)"
   ]
  },
  {
   "cell_type": "code",
   "execution_count": null,
   "metadata": {
    "collapsed": true
   },
   "outputs": [],
   "source": [
    "def on_click(event):\n",
    "    if event.inaxes is not None:\n",
    "        print (event.xdata, event.ydata)\n",
    "\n",
    "fig, ax = plt.subplots()\n",
    "fig.canvas.mpl_connect('button_press_event',on_click)\n"
   ]
  },
  {
   "cell_type": "code",
   "execution_count": null,
   "metadata": {},
   "outputs": [],
   "source": [
    "plt.imshow(ElGateau.display_state)"
   ]
  },
  {
   "cell_type": "code",
   "execution_count": null,
   "metadata": {},
   "outputs": [],
   "source": [
    "import matplotlib\n",
    "matplotlib.__version__"
   ]
  }
 ],
 "metadata": {
  "kernelspec": {
   "display_name": "Python [Root]",
   "language": "python",
   "name": "Python [Root]"
  },
  "language_info": {
   "codemirror_mode": {
    "name": "ipython",
    "version": 3
   },
   "file_extension": ".py",
   "mimetype": "text/x-python",
   "name": "python",
   "nbconvert_exporter": "python",
   "pygments_lexer": "ipython3",
   "version": "3.5.3"
  }
 },
 "nbformat": 4,
 "nbformat_minor": 2
}
