{
 "cells": [
  {
   "cell_type": "code",
   "execution_count": 2,
   "metadata": {},
   "outputs": [],
   "source": [
    "# https://stackoverflow.com/questions/35162889/python-pyusb-hid-feature-report\n",
    "# https://github.com/Lange/node-elgato-stream-deck/blob/master/index.js\n",
    "# https://github.com/danieltian/stream-deck-api/blob/master/lib/stream-deck.js\n",
    "\n",
    "import os, hid\n",
    "import numpy as np\n",
    "from PIL import Image\n"
   ]
  },
  {
   "cell_type": "code",
   "execution_count": 54,
   "metadata": {
    "collapsed": true
   },
   "outputs": [],
   "source": [
    "# constants\n",
    "\n",
    "HID_VENDOR = 4057\n",
    "HID_PRODUCT = 96\n",
    "\n",
    "NUM_KEYS = 15;\n",
    "ICON_SIZE = 72,72\n",
    "\n",
    "NUM_TOTAL_PIXELS = ICON_SIZE[0]*ICON_SIZE[1];\n",
    "NUM_PAGE1_PIXELS = 2583;\n",
    "NUM_PAGE2_PIXELS = NUM_TOTAL_PIXELS-NUM_PAGE1_PIXELS;\n",
    "\n",
    "RESET_DATA = [0x0B, 0x63, 0, 0, 0, 0, 0, 0, 0, 0, 0, 0, 0, 0, 0, 0, 0];\n",
    "BRIGHTNESS_DATA = [0x05, 0x55, 0xAA, 0xD1, 0x01, 0x0A, 0, 0, 0, 0, 0, 0, 0, 0, 0, 0, 0];\n",
    "\n",
    "HEADER_PAGE1 = [0x02, 0x01, 0x01, 0x00, 0x00, 0, 0x00, 0x00,0x00, 0x00, 0x00, 0x00, 0x00, 0x00, 0x00, 0x00, 0x42, 0x4d, 0xf6, 0x3c, 0x00, 0x00, 0x00, 0x00,0x00, 0x00, 0x36, 0x00, 0x00, 0x00, 0x28, 0x00, 0x00, 0x00, 0x48, 0x00, 0x00, 0x00, 0x48, 0x00, 0x00, 0x00, 0x01, 0x00, 0x18, 0x00, 0x00, 0x00, 0x00, 0x00, 0xc0, 0x3c, 0x00, 0x00, 0xc4, 0x0e, 0x00, 0x00, 0xc4, 0x0e, 0x00, 0x00, 0x00, 0x00, 0x00, 0x00, 0x00, 0x00, 0x00, 0x00]\n",
    "HEADER_PAGE2 = [0x02, 0x01, 0x02, 0x00, 0x01, 0]\n"
   ]
  },
  {
   "cell_type": "code",
   "execution_count": 12,
   "metadata": {
    "collapsed": true
   },
   "outputs": [],
   "source": [
    "#elg\n",
    "\n",
    "\n",
    "elg = hid.device(HID_VENDOR, HID_PRODUCT)\n",
    "elg.open(HID_VENDOR, HID_PRODUCT)"
   ]
  },
  {
   "cell_type": "code",
   "execution_count": 13,
   "metadata": {},
   "outputs": [
    {
     "data": {
      "text/plain": [
       "17"
      ]
     },
     "execution_count": 13,
     "metadata": {},
     "output_type": "execute_result"
    }
   ],
   "source": [
    "#elg\n",
    "\n",
    "\n",
    "# send reset command\n",
    "elg.send_feature_report(RESET_DATA)"
   ]
  },
  {
   "cell_type": "code",
   "execution_count": null,
   "metadata": {},
   "outputs": [],
   "source": [
    "#elg\n",
    "bright = 90\n",
    "\n",
    "\n",
    "# brightness to x\n",
    "BRIGHTNESS_DATA[5] = bright\n",
    "elg.send_feature_report(BRIGHTNESS_DATA)"
   ]
  },
  {
   "cell_type": "code",
   "execution_count": 70,
   "metadata": {},
   "outputs": [
    {
     "data": {
      "text/plain": [
       "8191"
      ]
     },
     "execution_count": 70,
     "metadata": {},
     "output_type": "execute_result"
    }
   ],
   "source": [
    "#elg\n",
    "key = 11\n",
    "icon = 'mushroom'\n",
    "pad = 200\n",
    "\n",
    "# read icon\n",
    "ico = Image.open(os.path.join(\"icons\",icon+\".png\"))\n",
    "\n",
    "# pad with blank space if don't know\n",
    "padded_size = ico.size[0]+pad,ico.size[1]+pad\n",
    "padded_im = Image.new(\"RGBA\", padded_size)\n",
    "padded_im.paste(ico, (int((padded_size[0]-ico.size[0])/2),int((padded_size[1]-ico.size[1])/2)))\n",
    "ico = padded_im\n",
    "\n",
    "# ensure final image is 72x72\n",
    "ico.thumbnail(ICON_SIZE)\n",
    "\n",
    "# buffer pixel data into a list and shuffle colors to BGR\n",
    "import numpy as np\n",
    "icobuffer = list(ico.getdata()) # RGBA\n",
    "pixels = np.array([])\n",
    "for px in range(0, NUM_TOTAL_PIXELS):\n",
    "    r = icobuffer[px][0]\n",
    "    g = icobuffer[px][1]\n",
    "    b = icobuffer[px][2]\n",
    "    pixels = np.concatenate([pixels,np.array([b,g,r])])\n",
    "    \n",
    "# send pixel data to elg\n",
    "header = HEADER_PAGE1\n",
    "header[5] = key\n",
    "msg = header+pixels[range(0,NUM_PAGE1_PIXELS*3)].astype(int).tolist()\n",
    "elg.write(msg)\n",
    "\n",
    "header = HEADER_PAGE2\n",
    "header[5] = key\n",
    "msg = header+pixels[range((NUM_PAGE1_PIXELS-3)*3-1,NUM_TOTAL_PIXELS*3)].astype(int).tolist()\n",
    "elg.write(msg)\n"
   ]
  },
  {
   "cell_type": "code",
   "execution_count": 5,
   "metadata": {},
   "outputs": [],
   "source": []
  },
  {
   "cell_type": "code",
   "execution_count": 35,
   "metadata": {},
   "outputs": [
    {
     "data": {
      "image/png": "[encoded data removed]",
      "text/plain": [
       "<PIL.Image.Image image mode=RGBA size=72x72 at 0x1AD9D7A2BE0>"
      ]
     },
     "execution_count": 35,
     "metadata": {},
     "output_type": "execute_result"
    }
   ],
   "source": []
  },
  {
   "cell_type": "code",
   "execution_count": null,
   "metadata": {
    "collapsed": true
   },
   "outputs": [],
   "source": [
    "## TO DO\n",
    "\n",
    "# text to image to button\n",
    "\n",
    "# key mapping\n",
    "\n",
    "# button listener"
   ]
  },
  {
   "cell_type": "code",
   "execution_count": 64,
   "metadata": {},
   "outputs": [
    {
     "data": {
      "text/plain": [
       "2602.3333333333335"
      ]
     },
     "execution_count": 64,
     "metadata": {},
     "output_type": "execute_result"
    }
   ],
   "source": []
  }
 ],
 "metadata": {
  "kernelspec": {
   "display_name": "Python 3",
   "language": "python",
   "name": "python3"
  },
  "language_info": {
   "codemirror_mode": {
    "name": "ipython",
    "version": 3
   },
   "file_extension": ".py",
   "mimetype": "text/x-python",
   "name": "python",
   "nbconvert_exporter": "python",
   "pygments_lexer": "ipython3",
   "version": "3.6.2"
  }
 },
 "nbformat": 4,
 "nbformat_minor": 2
}
